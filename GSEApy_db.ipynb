{
 "cells": [
  {
   "cell_type": "markdown",
   "id": "e68dd6d5-454a-4729-b2e2-03f0e795b744",
   "metadata": {},
   "source": [
    "# Environment"
   ]
  },
  {
   "cell_type": "code",
   "execution_count": 1,
   "id": "a73a25bc-85b5-4531-b29b-2c46377412c5",
   "metadata": {},
   "outputs": [],
   "source": [
    "import warnings"
   ]
  },
  {
   "cell_type": "code",
   "execution_count": 2,
   "id": "75a6a21f-f610-49f5-aaa3-7d459123a62e",
   "metadata": {},
   "outputs": [],
   "source": [
    "warnings.simplefilter('ignore', FutureWarning)\n",
    "warnings.simplefilter('ignore', UserWarning)"
   ]
  },
  {
   "cell_type": "code",
   "execution_count": 3,
   "id": "8e3d72e4-49f2-4530-be11-476930475c7f",
   "metadata": {},
   "outputs": [],
   "source": [
    "import re"
   ]
  },
  {
   "cell_type": "code",
   "execution_count": 4,
   "id": "a627c5a1-4cbb-470b-811d-c9ca0f85a236",
   "metadata": {},
   "outputs": [],
   "source": [
    "import pandas as pd"
   ]
  },
  {
   "cell_type": "code",
   "execution_count": 5,
   "id": "cf40d279-a2df-4875-b507-2f74dad712e5",
   "metadata": {},
   "outputs": [],
   "source": [
    "import numpy as np"
   ]
  },
  {
   "cell_type": "code",
   "execution_count": 6,
   "id": "f6284b17-b3b9-4b47-a25c-10a0d668c617",
   "metadata": {},
   "outputs": [],
   "source": [
    "from math import log10, log2"
   ]
  },
  {
   "cell_type": "code",
   "execution_count": 7,
   "id": "e2f2c744-9792-40ea-9ab1-f983dabc1574",
   "metadata": {},
   "outputs": [],
   "source": [
    "import plotly.express as px"
   ]
  },
  {
   "cell_type": "code",
   "execution_count": 8,
   "id": "2af5f118-cbc0-466d-acb5-1ad389c633aa",
   "metadata": {},
   "outputs": [],
   "source": [
    "import plotly.graph_objects as go"
   ]
  },
  {
   "cell_type": "code",
   "execution_count": 9,
   "id": "5d8a93b4-301f-48d7-a122-33295b4cae4c",
   "metadata": {},
   "outputs": [],
   "source": [
    "import matplotlib.pyplot as plt"
   ]
  },
  {
   "cell_type": "code",
   "execution_count": 10,
   "id": "3ccb7e54-5f08-46da-9da3-503433e31523",
   "metadata": {},
   "outputs": [],
   "source": [
    "from flatsplode import flatsplode"
   ]
  },
  {
   "cell_type": "code",
   "execution_count": 11,
   "id": "235ad21e-9367-4cde-97b8-c3663ee8cbd2",
   "metadata": {},
   "outputs": [],
   "source": [
    "from biothings_client import get_client"
   ]
  },
  {
   "cell_type": "code",
   "execution_count": 12,
   "id": "e80ff01c-227f-424d-b71d-58c430df4d8e",
   "metadata": {},
   "outputs": [],
   "source": [
    "import gseapy as gp"
   ]
  },
  {
   "cell_type": "markdown",
   "id": "96c07440-2ddc-4ecb-9f8f-625143d5b823",
   "metadata": {},
   "source": [
    "# GSEApy"
   ]
  },
  {
   "cell_type": "markdown",
   "id": "6b4bb8d3-8185-44de-874d-d99ecb856275",
   "metadata": {},
   "source": [
    "## Enrichr API"
   ]
  },
  {
   "cell_type": "code",
   "execution_count": 13,
   "id": "8cb3edf0-c2ee-4994-82af-6413dbe3c900",
   "metadata": {},
   "outputs": [],
   "source": [
    "human_library = gp.get_library_name(organism=\"Human\")"
   ]
  },
  {
   "cell_type": "code",
   "execution_count": 14,
   "id": "8ca50189-b84d-4ce5-875a-523faf3d50bf",
   "metadata": {},
   "outputs": [
    {
     "data": {
      "text/plain": [
       "['ARCHS4_Cell-lines',\n",
       " 'ARCHS4_IDG_Coexp',\n",
       " 'ARCHS4_Kinases_Coexp',\n",
       " 'ARCHS4_TFs_Coexp',\n",
       " 'ARCHS4_Tissues',\n",
       " 'Achilles_fitness_decrease',\n",
       " 'Achilles_fitness_increase',\n",
       " 'Aging_Perturbations_from_GEO_down',\n",
       " 'Aging_Perturbations_from_GEO_up',\n",
       " 'Allen_Brain_Atlas_10x_scRNA_2021',\n",
       " 'Allen_Brain_Atlas_down',\n",
       " 'Allen_Brain_Atlas_up',\n",
       " 'Azimuth_2023',\n",
       " 'Azimuth_Cell_Types_2021',\n",
       " 'BioCarta_2013',\n",
       " 'BioCarta_2015',\n",
       " 'BioCarta_2016',\n",
       " 'BioPlanet_2019',\n",
       " 'BioPlex_2017',\n",
       " 'CCLE_Proteomics_2020',\n",
       " 'CORUM',\n",
       " 'COVID-19_Related_Gene_Sets',\n",
       " 'COVID-19_Related_Gene_Sets_2021',\n",
       " 'Cancer_Cell_Line_Encyclopedia',\n",
       " 'CellMarker_Augmented_2021',\n",
       " 'ChEA_2013',\n",
       " 'ChEA_2015',\n",
       " 'ChEA_2016',\n",
       " 'ChEA_2022',\n",
       " 'Chromosome_Location',\n",
       " 'Chromosome_Location_hg19',\n",
       " 'ClinVar_2019',\n",
       " 'DSigDB',\n",
       " 'Data_Acquisition_Method_Most_Popular_Genes',\n",
       " 'DepMap_WG_CRISPR_Screens_Broad_CellLines_2019',\n",
       " 'DepMap_WG_CRISPR_Screens_Sanger_CellLines_2019',\n",
       " 'Descartes_Cell_Types_and_Tissue_2021',\n",
       " 'Diabetes_Perturbations_GEO_2022',\n",
       " 'DisGeNET',\n",
       " 'Disease_Perturbations_from_GEO_down',\n",
       " 'Disease_Perturbations_from_GEO_up',\n",
       " 'Disease_Signatures_from_GEO_down_2014',\n",
       " 'Disease_Signatures_from_GEO_up_2014',\n",
       " 'DrugMatrix',\n",
       " 'Drug_Perturbations_from_GEO_2014',\n",
       " 'Drug_Perturbations_from_GEO_down',\n",
       " 'Drug_Perturbations_from_GEO_up',\n",
       " 'ENCODE_Histone_Modifications_2013',\n",
       " 'ENCODE_Histone_Modifications_2015',\n",
       " 'ENCODE_TF_ChIP-seq_2014',\n",
       " 'ENCODE_TF_ChIP-seq_2015',\n",
       " 'ENCODE_and_ChEA_Consensus_TFs_from_ChIP-X',\n",
       " 'ESCAPE',\n",
       " 'Elsevier_Pathway_Collection',\n",
       " 'Enrichr_Libraries_Most_Popular_Genes',\n",
       " 'Enrichr_Submissions_TF-Gene_Coocurrence',\n",
       " 'Enrichr_Users_Contributed_Lists_2020',\n",
       " 'Epigenomics_Roadmap_HM_ChIP-seq',\n",
       " 'FANTOM6_lncRNA_KD_DEGs',\n",
       " 'GO_Biological_Process_2013',\n",
       " 'GO_Biological_Process_2015',\n",
       " 'GO_Biological_Process_2017',\n",
       " 'GO_Biological_Process_2017b',\n",
       " 'GO_Biological_Process_2018',\n",
       " 'GO_Biological_Process_2021',\n",
       " 'GO_Biological_Process_2023',\n",
       " 'GO_Cellular_Component_2013',\n",
       " 'GO_Cellular_Component_2015',\n",
       " 'GO_Cellular_Component_2017',\n",
       " 'GO_Cellular_Component_2017b',\n",
       " 'GO_Cellular_Component_2018',\n",
       " 'GO_Cellular_Component_2021',\n",
       " 'GO_Cellular_Component_2023',\n",
       " 'GO_Molecular_Function_2013',\n",
       " 'GO_Molecular_Function_2015',\n",
       " 'GO_Molecular_Function_2017',\n",
       " 'GO_Molecular_Function_2017b',\n",
       " 'GO_Molecular_Function_2018',\n",
       " 'GO_Molecular_Function_2021',\n",
       " 'GO_Molecular_Function_2023',\n",
       " 'GTEx_Aging_Signatures_2021',\n",
       " 'GTEx_Tissue_Expression_Down',\n",
       " 'GTEx_Tissue_Expression_Up',\n",
       " 'GTEx_Tissues_V8_2023',\n",
       " 'GWAS_Catalog_2019',\n",
       " 'GWAS_Catalog_2023',\n",
       " 'GeDiPNet_2023',\n",
       " 'GeneSigDB',\n",
       " 'Gene_Perturbations_from_GEO_down',\n",
       " 'Gene_Perturbations_from_GEO_up',\n",
       " 'Genes_Associated_with_NIH_Grants',\n",
       " 'Genome_Browser_PWMs',\n",
       " 'GlyGen_Glycosylated_Proteins_2022',\n",
       " 'HDSigDB_Human_2021',\n",
       " 'HDSigDB_Mouse_2021',\n",
       " 'HMDB_Metabolites',\n",
       " 'HMS_LINCS_KinomeScan',\n",
       " 'HomoloGene',\n",
       " 'HuBMAP_ASCT_plus_B_augmented_w_RNAseq_Coexpression',\n",
       " 'HuBMAP_ASCTplusB_augmented_2022',\n",
       " 'HumanCyc_2015',\n",
       " 'HumanCyc_2016',\n",
       " 'Human_Gene_Atlas',\n",
       " 'Human_Phenotype_Ontology',\n",
       " 'IDG_Drug_Targets_2022',\n",
       " 'InterPro_Domains_2019',\n",
       " 'Jensen_COMPARTMENTS',\n",
       " 'Jensen_DISEASES',\n",
       " 'Jensen_TISSUES',\n",
       " 'KEA_2013',\n",
       " 'KEA_2015',\n",
       " 'KEGG_2013',\n",
       " 'KEGG_2015',\n",
       " 'KEGG_2016',\n",
       " 'KEGG_2019_Human',\n",
       " 'KEGG_2019_Mouse',\n",
       " 'KEGG_2021_Human',\n",
       " 'KOMP2_Mouse_Phenotypes_2022',\n",
       " 'Kinase_Perturbations_from_GEO_down',\n",
       " 'Kinase_Perturbations_from_GEO_up',\n",
       " 'L1000_Kinase_and_GPCR_Perturbations_down',\n",
       " 'L1000_Kinase_and_GPCR_Perturbations_up',\n",
       " 'LINCS_L1000_CRISPR_KO_Consensus_Sigs',\n",
       " 'LINCS_L1000_Chem_Pert_Consensus_Sigs',\n",
       " 'LINCS_L1000_Chem_Pert_down',\n",
       " 'LINCS_L1000_Chem_Pert_up',\n",
       " 'LINCS_L1000_Ligand_Perturbations_down',\n",
       " 'LINCS_L1000_Ligand_Perturbations_up',\n",
       " 'Ligand_Perturbations_from_GEO_down',\n",
       " 'Ligand_Perturbations_from_GEO_up',\n",
       " 'MAGMA_Drugs_and_Diseases',\n",
       " 'MAGNET_2023',\n",
       " 'MCF7_Perturbations_from_GEO_down',\n",
       " 'MCF7_Perturbations_from_GEO_up',\n",
       " 'MGI_Mammalian_Phenotype_2013',\n",
       " 'MGI_Mammalian_Phenotype_2017',\n",
       " 'MGI_Mammalian_Phenotype_Level_3',\n",
       " 'MGI_Mammalian_Phenotype_Level_4',\n",
       " 'MGI_Mammalian_Phenotype_Level_4_2019',\n",
       " 'MGI_Mammalian_Phenotype_Level_4_2021',\n",
       " 'MSigDB_Computational',\n",
       " 'MSigDB_Hallmark_2020',\n",
       " 'MSigDB_Oncogenic_Signatures',\n",
       " 'Metabolomics_Workbench_Metabolites_2022',\n",
       " 'Microbe_Perturbations_from_GEO_down',\n",
       " 'Microbe_Perturbations_from_GEO_up',\n",
       " 'MoTrPAC_2023',\n",
       " 'Mouse_Gene_Atlas',\n",
       " 'NCI-60_Cancer_Cell_Lines',\n",
       " 'NCI-Nature_2015',\n",
       " 'NCI-Nature_2016',\n",
       " 'NIH_Funded_PIs_2017_AutoRIF_ARCHS4_Predictions',\n",
       " 'NIH_Funded_PIs_2017_GeneRIF_ARCHS4_Predictions',\n",
       " 'NIH_Funded_PIs_2017_Human_AutoRIF',\n",
       " 'NIH_Funded_PIs_2017_Human_GeneRIF',\n",
       " 'NURSA_Human_Endogenous_Complexome',\n",
       " 'OMIM_Disease',\n",
       " 'OMIM_Expanded',\n",
       " 'Old_CMAP_down',\n",
       " 'Old_CMAP_up',\n",
       " 'Orphanet_Augmented_2021',\n",
       " 'PFOCR_Pathways',\n",
       " 'PFOCR_Pathways_2023',\n",
       " 'PPI_Hub_Proteins',\n",
       " 'PanglaoDB_Augmented_2021',\n",
       " 'Panther_2015',\n",
       " 'Panther_2016',\n",
       " 'Pfam_Domains_2019',\n",
       " 'Pfam_InterPro_Domains',\n",
       " 'PheWeb_2019',\n",
       " 'PhenGenI_Association_2021',\n",
       " 'Phosphatase_Substrates_from_DEPOD',\n",
       " 'ProteomicsDB_2020',\n",
       " 'Proteomics_Drug_Atlas_2023',\n",
       " 'RNA-Seq_Disease_Gene_and_Drug_Signatures_from_GEO',\n",
       " 'RNAseq_Automatic_GEO_Signatures_Human_Down',\n",
       " 'RNAseq_Automatic_GEO_Signatures_Human_Up',\n",
       " 'RNAseq_Automatic_GEO_Signatures_Mouse_Down',\n",
       " 'RNAseq_Automatic_GEO_Signatures_Mouse_Up',\n",
       " 'Rare_Diseases_AutoRIF_ARCHS4_Predictions',\n",
       " 'Rare_Diseases_AutoRIF_Gene_Lists',\n",
       " 'Rare_Diseases_GeneRIF_ARCHS4_Predictions',\n",
       " 'Rare_Diseases_GeneRIF_Gene_Lists',\n",
       " 'Reactome_2013',\n",
       " 'Reactome_2015',\n",
       " 'Reactome_2016',\n",
       " 'Reactome_2022',\n",
       " 'Rummagene_kinases',\n",
       " 'Rummagene_signatures',\n",
       " 'Rummagene_transcription_factors',\n",
       " 'SILAC_Phosphoproteomics',\n",
       " 'SubCell_BarCode',\n",
       " 'SynGO_2022',\n",
       " 'SysMyo_Muscle_Gene_Sets',\n",
       " 'TF-LOF_Expression_from_GEO',\n",
       " 'TF_Perturbations_Followed_by_Expression',\n",
       " 'TG_GATES_2020',\n",
       " 'TRANSFAC_and_JASPAR_PWMs',\n",
       " 'TRRUST_Transcription_Factors_2019',\n",
       " 'Table_Mining_of_CRISPR_Studies',\n",
       " 'Tabula_Muris',\n",
       " 'Tabula_Sapiens',\n",
       " 'TargetScan_microRNA',\n",
       " 'TargetScan_microRNA_2017',\n",
       " 'The_Kinase_Library_2023',\n",
       " 'Tissue_Protein_Expression_from_Human_Proteome_Map',\n",
       " 'Tissue_Protein_Expression_from_ProteomicsDB',\n",
       " 'Transcription_Factor_PPIs',\n",
       " 'UK_Biobank_GWAS_v1',\n",
       " 'Virus-Host_PPI_P-HIPSTer_2020',\n",
       " 'VirusMINT',\n",
       " 'Virus_Perturbations_from_GEO_down',\n",
       " 'Virus_Perturbations_from_GEO_up',\n",
       " 'WikiPathway_2021_Human',\n",
       " 'WikiPathway_2023_Human',\n",
       " 'WikiPathways_2013',\n",
       " 'WikiPathways_2015',\n",
       " 'WikiPathways_2016',\n",
       " 'WikiPathways_2019_Human',\n",
       " 'WikiPathways_2019_Mouse',\n",
       " 'dbGaP',\n",
       " 'huMAP',\n",
       " 'lncHUB_lncRNA_Co-Expression',\n",
       " 'miRTarBase_2017']"
      ]
     },
     "execution_count": 14,
     "metadata": {},
     "output_type": "execute_result"
    }
   ],
   "source": [
    "human_library"
   ]
  },
  {
   "cell_type": "code",
   "execution_count": 15,
   "id": "2514fc68-1258-4afe-9131-ef3f9588b4bc",
   "metadata": {},
   "outputs": [],
   "source": [
    "GO_Biological_Process_2023 = gp.get_library(name=\"GO_Biological_Process_2023\",\n",
    "                                            organism=\"Human\")"
   ]
  },
  {
   "cell_type": "code",
   "execution_count": 17,
   "id": "56cddb3d-acff-4664-8aa2-5972dc1f662f",
   "metadata": {},
   "outputs": [
    {
     "data": {
      "text/plain": [
       "dict"
      ]
     },
     "execution_count": 17,
     "metadata": {},
     "output_type": "execute_result"
    }
   ],
   "source": [
    "type(GO_Biological_Process_2023)"
   ]
  },
  {
   "cell_type": "code",
   "execution_count": 53,
   "id": "d42c03ca-1d48-4d9f-989b-760c87128ebc",
   "metadata": {},
   "outputs": [
    {
     "data": {
      "text/plain": [
       "5406"
      ]
     },
     "execution_count": 53,
     "metadata": {},
     "output_type": "execute_result"
    }
   ],
   "source": [
    "len(GO_Biological_Process_2023)"
   ]
  },
  {
   "cell_type": "code",
   "execution_count": 54,
   "id": "7c490c33-e251-47ab-9ac0-ff7acf65f39c",
   "metadata": {},
   "outputs": [],
   "source": [
    "GO_Cellular_Component_2023 = gp.get_library(name=\"GO_Cellular_Component_2023\",\n",
    "                                            organism=\"Human\")"
   ]
  },
  {
   "cell_type": "code",
   "execution_count": 55,
   "id": "7fbe8523-2dfa-4c6c-9ca7-f1410b953c38",
   "metadata": {},
   "outputs": [
    {
     "data": {
      "text/plain": [
       "dict"
      ]
     },
     "execution_count": 55,
     "metadata": {},
     "output_type": "execute_result"
    }
   ],
   "source": [
    "type(GO_Cellular_Component_2023)"
   ]
  },
  {
   "cell_type": "code",
   "execution_count": 56,
   "id": "d0868fc9-ae57-405c-88c5-1ca5a6cd07fb",
   "metadata": {},
   "outputs": [
    {
     "data": {
      "text/plain": [
       "472"
      ]
     },
     "execution_count": 56,
     "metadata": {},
     "output_type": "execute_result"
    }
   ],
   "source": [
    "len(GO_Cellular_Component_2023)"
   ]
  },
  {
   "cell_type": "code",
   "execution_count": 57,
   "id": "d9cc064c-dec9-495b-86bb-755996716859",
   "metadata": {},
   "outputs": [],
   "source": [
    "GO_Molecular_Function_2023 = gp.get_library(name=\"GO_Molecular_Function_2023\",\n",
    "                                            organism=\"Human\")"
   ]
  },
  {
   "cell_type": "code",
   "execution_count": 58,
   "id": "e604f936-5a5b-45eb-8681-54447f630d7c",
   "metadata": {},
   "outputs": [
    {
     "data": {
      "text/plain": [
       "dict"
      ]
     },
     "execution_count": 58,
     "metadata": {},
     "output_type": "execute_result"
    }
   ],
   "source": [
    "type(GO_Molecular_Function_2023)"
   ]
  },
  {
   "cell_type": "code",
   "execution_count": 59,
   "id": "28652446-877d-480f-b420-be6f68cbf614",
   "metadata": {},
   "outputs": [
    {
     "data": {
      "text/plain": [
       "1147"
      ]
     },
     "execution_count": 59,
     "metadata": {},
     "output_type": "execute_result"
    }
   ],
   "source": [
    "len(GO_Molecular_Function_2023)"
   ]
  },
  {
   "cell_type": "code",
   "execution_count": 15,
   "id": "a1259358-c79b-4d6b-afcf-e1da312dbb9b",
   "metadata": {},
   "outputs": [],
   "source": [
    "from sqlalchemy import create_engine, Column, String, Integer\n",
    "from sqlalchemy.orm import declarative_base, sessionmaker"
   ]
  },
  {
   "cell_type": "code",
   "execution_count": 16,
   "id": "7ecca694-0998-4ce8-88a2-66e1da9cd09d",
   "metadata": {},
   "outputs": [],
   "source": [
    "Base = declarative_base()"
   ]
  },
  {
   "cell_type": "code",
   "execution_count": 17,
   "id": "435e9ce6-4de2-490c-bf3b-d7f20e8ae52b",
   "metadata": {},
   "outputs": [],
   "source": [
    "class GOBP(Base):\n",
    "    __tablename__ = 'GOBP'\n",
    "    id = Column(Integer, primary_key=True)\n",
    "    Term = Column(String)\n",
    "    Gene = Column(String)"
   ]
  },
  {
   "cell_type": "code",
   "execution_count": 18,
   "id": "963dd781-2256-4f09-b459-8823105f6812",
   "metadata": {},
   "outputs": [],
   "source": [
    "class GOCC(Base):\n",
    "    __tablename__ = 'GOCC'\n",
    "    id = Column(Integer, primary_key=True)\n",
    "    Term = Column(String)\n",
    "    Gene = Column(String)"
   ]
  },
  {
   "cell_type": "code",
   "execution_count": 19,
   "id": "eec526ca-0f78-48a0-8db2-e3977c2e6b80",
   "metadata": {},
   "outputs": [],
   "source": [
    "class GOMF(Base):\n",
    "    __tablename__ = 'GOMF'\n",
    "    id = Column(Integer, primary_key=True)\n",
    "    Term = Column(String)\n",
    "    Gene = Column(String)"
   ]
  },
  {
   "cell_type": "code",
   "execution_count": 21,
   "id": "ef0b6ca8-2cae-4585-8600-d1fbdffa4c66",
   "metadata": {},
   "outputs": [],
   "source": [
    "engine = create_engine('sqlite:///instance/GeneSet.db')\n",
    "Base.metadata.create_all(engine)\n",
    "\n",
    "Session = sessionmaker(bind=engine)\n",
    "session = Session()"
   ]
  },
  {
   "cell_type": "code",
   "execution_count": 89,
   "id": "d689d99e-ae74-451a-ac71-957e613f6072",
   "metadata": {},
   "outputs": [],
   "source": [
    "for Term, Genes in GO_Biological_Process_2023.items():\n",
    "    for Gene in Genes:\n",
    "        new_entry = GOBP(Term=Term, Gene=Gene)\n",
    "        session.add(new_entry)"
   ]
  },
  {
   "cell_type": "code",
   "execution_count": 90,
   "id": "b9b777fb-4d09-4c49-9d58-a8a551e7c409",
   "metadata": {},
   "outputs": [],
   "source": [
    "for Term, Genes in GO_Cellular_Component_2023.items():\n",
    "    for Gene in Genes:\n",
    "        new_entry = GOCC(Term=Term, Gene=Gene)\n",
    "        session.add(new_entry)"
   ]
  },
  {
   "cell_type": "code",
   "execution_count": 91,
   "id": "364bb305-3d65-4302-abe0-12d24b41778e",
   "metadata": {},
   "outputs": [],
   "source": [
    "for Term, Genes in GO_Molecular_Function_2023.items():\n",
    "    for Gene in Genes:\n",
    "        new_entry = GOMF(Term=Term, Gene=Gene)\n",
    "        session.add(new_entry)"
   ]
  },
  {
   "cell_type": "code",
   "execution_count": 92,
   "id": "b60fddf2-e634-4c64-99ff-99a262f9122c",
   "metadata": {},
   "outputs": [],
   "source": [
    "session.commit()\n",
    "session.close()"
   ]
  },
  {
   "cell_type": "code",
   "execution_count": 22,
   "id": "7d83ffc6-80d0-482b-b83c-3f326ed17c50",
   "metadata": {},
   "outputs": [],
   "source": [
    "gp_records = session.query(GOBP).all()\n",
    "\n",
    "session.close()"
   ]
  },
  {
   "cell_type": "code",
   "execution_count": 23,
   "id": "96417697-938a-495b-baf4-d10bfac55296",
   "metadata": {},
   "outputs": [],
   "source": [
    "geneset_dict = {}\n",
    "\n",
    "for record in gp_records:\n",
    "    if record.Term in geneset_dict:\n",
    "        geneset_dict[record.Term].append(record.Gene)\n",
    "    else:\n",
    "        geneset_dict[record.Term] = [record.Gene]"
   ]
  },
  {
   "cell_type": "code",
   "execution_count": 24,
   "id": "6780e6b0-a489-48c9-a581-8b0c370031ed",
   "metadata": {},
   "outputs": [],
   "source": [
    "# geneset_dict"
   ]
  },
  {
   "cell_type": "code",
   "execution_count": 25,
   "id": "c9dfef67-e5c4-46a5-bc55-bd1dc9e6cc11",
   "metadata": {},
   "outputs": [],
   "source": [
    "input_genes = \"UBL5,NDUFB8,CHMP2B,PRPF8,NOSTRIN,MFAP1,CWC22,PLCH2,PRPF31,ATP6AP1,DSC3,CLN5,CHDC2,PIP,ZNF473,DHX8,RAB5A,NUP98,NUPL1,HRK,SLC41A3,SNRPD3,SNRPD2,PCGF6,GSK3A,SLC2A2,ARCN1,ANGPTL3,COPB1,COPB2,STARD5,CYB5R4,DMD,FUS,COPS6,NOS3,SFXN2,CNTN5,IQSEC1,CRADD,STAC3,COPZ1,SULT1C4,EFTUD2,SLC35A1,B4GALT2,THRSP,NHP2L1,ZNF224,NXF1,PDLIM3,SAMM50,MTFR1,SART1,PCDHGA1,GINS2,MPG,GJA3,UBE2A,ESAM,CLK3,EIF4A2,NUTF2,INMT,SCYL3,XIAP,TRIM28,MPZL1,LY6G6C,RBM14,TPRX1,ATP6V0B,NUP107,ABCD1,TGS1,RPS4X,CRNKL1,YTHDC1,PPAN,PRRT1,KRTCAP2,GDPD5,ZNF132,WDR18,ATP5F1,AMOTL1,RPS16,CCDC74B,CCDC74A,SF3B1,SF3B3,SF3B2,MYOCD,MLKL,PRSS8,CACTIN,EIF2S1,ZNF16,PGD,SRP54,AQR,DYNC1I1,DCLRE1B,CALCOCO2,EVC2,LRP1B,ZNF552,COPG1,EPRS,COPA,ATP6V1G1,PIEZO1,FCGR2A,CPLX1,SNRPB,BACE1,ZNF154,RAB29,ATP6V0E2,AHCY,SLC1A3\""
   ]
  },
  {
   "cell_type": "code",
   "execution_count": 26,
   "id": "78915b0d-657a-48b3-87e9-d3450765fb3f",
   "metadata": {},
   "outputs": [],
   "source": [
    "gene_list = [\n",
    "    i for i in re.split(r\"\\n|\\t|,|;| \", input_genes) if i != \"\"\n",
    "]"
   ]
  },
  {
   "cell_type": "code",
   "execution_count": 27,
   "id": "8fb9dfd7-4b6c-4b8b-8570-cdcb90a7e3a4",
   "metadata": {},
   "outputs": [
    {
     "data": {
      "text/plain": [
       "121"
      ]
     },
     "execution_count": 27,
     "metadata": {},
     "output_type": "execute_result"
    }
   ],
   "source": [
    "len(gene_list)"
   ]
  },
  {
   "cell_type": "code",
   "execution_count": 28,
   "id": "02c23fa9-cb62-4e90-bcde-204951397d21",
   "metadata": {},
   "outputs": [
    {
     "data": {
      "text/plain": [
       "['UBL5', 'NDUFB8', 'CHMP2B', 'PRPF8', 'NOSTRIN']"
      ]
     },
     "execution_count": 28,
     "metadata": {},
     "output_type": "execute_result"
    }
   ],
   "source": [
    "gene_list[0:5]"
   ]
  },
  {
   "cell_type": "code",
   "execution_count": 29,
   "id": "9ef088bc-1ddf-487f-b1b0-0c641cf5528e",
   "metadata": {},
   "outputs": [],
   "source": [
    "# help(gp.enrich)"
   ]
  },
  {
   "cell_type": "code",
   "execution_count": 30,
   "id": "bc281a2d-f382-43f4-a0f5-7eb3077c5fbc",
   "metadata": {},
   "outputs": [],
   "source": [
    "enr = gp.enrich(gene_list=gene_list,\n",
    "                gene_sets=geneset_dict,\n",
    "                background=None)"
   ]
  },
  {
   "cell_type": "code",
   "execution_count": 34,
   "id": "4033aa8c-e7b6-40c0-b5d1-239fc9d78ac6",
   "metadata": {},
   "outputs": [],
   "source": [
    "    gp_results = (\n",
    "        enr.results.filter(\n",
    "            [\n",
    "                # \"Gene_set\",\n",
    "                \"Term\",\n",
    "                \"Overlap\",\n",
    "                \"P-value\",\n",
    "                \"Adjusted P-value\",\n",
    "                \"Odds Ratio\",\n",
    "                \"Combined Score\",\n",
    "                \"Genes\",\n",
    "            ]\n",
    "        )\n",
    "        .rename(\n",
    "            columns={\n",
    "                \"P-value\": \"p_val\",\n",
    "                \"Adjusted P-value\": \"adj_p\",\n",
    "                \"Odds Ratio\": \"OddsRatio\",\n",
    "                \"Combined Score\": \"Score\",\n",
    "            }\n",
    "        )\n",
    "        .sort_values(\"p_val\")\n",
    "        # .query(f'adj_p < {cutoff}')\n",
    "        .query(\"p_val < 0.05\")\n",
    "        .assign(Term_ed=lambda df: df.Term.str.replace(\" \\\\(GO:.*\\\\)$\", \"\", regex=True))\n",
    "        .assign(mLog10_p_val=lambda df: df.p_val.apply(log10))\n",
    "        .assign(mLog10_p_val=lambda df: df.mLog10_p_val * -1)\n",
    "        .assign(mLog10_adj_p=lambda df: df.adj_p.apply(log10))\n",
    "        .assign(mLog10_adj_p=lambda df: df.mLog10_adj_p * -1)\n",
    "        .assign(num_Score=lambda df: df.Score)\n",
    "        .assign(Log2_Score=lambda df: df.Score.apply(log2))\n",
    "        .assign(Genes=lambda df: df.Genes.str.replace(\";\", \"; \"))\n",
    "        .assign(p_val=lambda df: df.p_val.apply(lambda x: f\"{x:.3e}\"))\n",
    "        .assign(adj_p=lambda df: df.adj_p.apply(lambda x: f\"{x:.3e}\"))\n",
    "        .assign(OddsRatio=lambda df: df.OddsRatio.apply(lambda x: f\"{x:.3f}\"))\n",
    "        .assign(Score=lambda df: df.Score.apply(lambda x: f\"{x:.3f}\"))\n",
    "    )"
   ]
  },
  {
   "cell_type": "code",
   "execution_count": 36,
   "id": "390765e5-3072-41fd-b8fd-7eb877eb0b48",
   "metadata": {},
   "outputs": [
    {
     "data": {
      "text/html": [
       "<div>\n",
       "<style scoped>\n",
       "    .dataframe tbody tr th:only-of-type {\n",
       "        vertical-align: middle;\n",
       "    }\n",
       "\n",
       "    .dataframe tbody tr th {\n",
       "        vertical-align: top;\n",
       "    }\n",
       "\n",
       "    .dataframe thead th {\n",
       "        text-align: right;\n",
       "    }\n",
       "</style>\n",
       "<table border=\"1\" class=\"dataframe\">\n",
       "  <thead>\n",
       "    <tr style=\"text-align: right;\">\n",
       "      <th></th>\n",
       "      <th>Term</th>\n",
       "      <th>Overlap</th>\n",
       "      <th>p_val</th>\n",
       "      <th>adj_p</th>\n",
       "      <th>OddsRatio</th>\n",
       "      <th>Score</th>\n",
       "      <th>Genes</th>\n",
       "      <th>Term_ed</th>\n",
       "      <th>mLog10_p_val</th>\n",
       "      <th>mLog10_adj_p</th>\n",
       "      <th>num_Score</th>\n",
       "      <th>Log2_Score</th>\n",
       "    </tr>\n",
       "  </thead>\n",
       "  <tbody>\n",
       "    <tr>\n",
       "      <th>926</th>\n",
       "      <td>mRNA Splicing, Via Spliceosome (GO:0000398)</td>\n",
       "      <td>19/211</td>\n",
       "      <td>2.470e-16</td>\n",
       "      <td>1.176e-13</td>\n",
       "      <td>16.190</td>\n",
       "      <td>581.806</td>\n",
       "      <td>YTHDC1; SNRPB; CACTIN; SNRPD2; PRPF31; TGS1; D...</td>\n",
       "      <td>mRNA Splicing, Via Spliceosome</td>\n",
       "      <td>15.607348</td>\n",
       "      <td>12.929694</td>\n",
       "      <td>581.806476</td>\n",
       "      <td>9.184396</td>\n",
       "    </tr>\n",
       "    <tr>\n",
       "      <th>640</th>\n",
       "      <td>RNA Splicing, Via Transesterification Reaction...</td>\n",
       "      <td>18/180</td>\n",
       "      <td>2.512e-16</td>\n",
       "      <td>1.176e-13</td>\n",
       "      <td>17.820</td>\n",
       "      <td>640.086</td>\n",
       "      <td>CRNKL1; RBM14; YTHDC1; PRPF8; MFAP1; EFTUD2; S...</td>\n",
       "      <td>RNA Splicing, Via Transesterification Reaction...</td>\n",
       "      <td>15.599940</td>\n",
       "      <td>12.929694</td>\n",
       "      <td>640.086234</td>\n",
       "      <td>9.322122</td>\n",
       "    </tr>\n",
       "    <tr>\n",
       "      <th>924</th>\n",
       "      <td>mRNA Processing (GO:0006397)</td>\n",
       "      <td>18/214</td>\n",
       "      <td>5.432e-15</td>\n",
       "      <td>1.695e-12</td>\n",
       "      <td>14.960</td>\n",
       "      <td>491.382</td>\n",
       "      <td>CRNKL1; RBM14; YTHDC1; PRPF8; MFAP1; EFTUD2; S...</td>\n",
       "      <td>mRNA Processing</td>\n",
       "      <td>14.265004</td>\n",
       "      <td>11.770849</td>\n",
       "      <td>491.381793</td>\n",
       "      <td>8.940701</td>\n",
       "    </tr>\n",
       "    <tr>\n",
       "      <th>862</th>\n",
       "      <td>Spliceosomal snRNP Assembly (GO:0000387)</td>\n",
       "      <td>7/37</td>\n",
       "      <td>5.099e-09</td>\n",
       "      <td>1.193e-06</td>\n",
       "      <td>31.028</td>\n",
       "      <td>592.446</td>\n",
       "      <td>PRPF8; SNRPB; SART1; PRPF31; TGS1; SNRPD3; SNRPD2</td>\n",
       "      <td>Spliceosomal snRNP Assembly</td>\n",
       "      <td>8.292507</td>\n",
       "      <td>5.923291</td>\n",
       "      <td>592.445633</td>\n",
       "      <td>9.210539</td>\n",
       "    </tr>\n",
       "    <tr>\n",
       "      <th>895</th>\n",
       "      <td>U2-type Prespliceosome Assembly (GO:1903241)</td>\n",
       "      <td>6/23</td>\n",
       "      <td>8.325e-09</td>\n",
       "      <td>1.459e-06</td>\n",
       "      <td>42.502</td>\n",
       "      <td>790.701</td>\n",
       "      <td>SNRPB; SF3B2; SF3B3; SF3B1; SNRPD3; SNRPD2</td>\n",
       "      <td>U2-type Prespliceosome Assembly</td>\n",
       "      <td>8.079627</td>\n",
       "      <td>5.836059</td>\n",
       "      <td>790.701265</td>\n",
       "      <td>9.626989</td>\n",
       "    </tr>\n",
       "  </tbody>\n",
       "</table>\n",
       "</div>"
      ],
      "text/plain": [
       "                                                  Term Overlap      p_val  \\\n",
       "926        mRNA Splicing, Via Spliceosome (GO:0000398)  19/211  2.470e-16   \n",
       "640  RNA Splicing, Via Transesterification Reaction...  18/180  2.512e-16   \n",
       "924                       mRNA Processing (GO:0006397)  18/214  5.432e-15   \n",
       "862           Spliceosomal snRNP Assembly (GO:0000387)    7/37  5.099e-09   \n",
       "895       U2-type Prespliceosome Assembly (GO:1903241)    6/23  8.325e-09   \n",
       "\n",
       "         adj_p OddsRatio    Score  \\\n",
       "926  1.176e-13    16.190  581.806   \n",
       "640  1.176e-13    17.820  640.086   \n",
       "924  1.695e-12    14.960  491.382   \n",
       "862  1.193e-06    31.028  592.446   \n",
       "895  1.459e-06    42.502  790.701   \n",
       "\n",
       "                                                 Genes  \\\n",
       "926  YTHDC1; SNRPB; CACTIN; SNRPD2; PRPF31; TGS1; D...   \n",
       "640  CRNKL1; RBM14; YTHDC1; PRPF8; MFAP1; EFTUD2; S...   \n",
       "924  CRNKL1; RBM14; YTHDC1; PRPF8; MFAP1; EFTUD2; S...   \n",
       "862  PRPF8; SNRPB; SART1; PRPF31; TGS1; SNRPD3; SNRPD2   \n",
       "895         SNRPB; SF3B2; SF3B3; SF3B1; SNRPD3; SNRPD2   \n",
       "\n",
       "                                               Term_ed  mLog10_p_val  \\\n",
       "926                     mRNA Splicing, Via Spliceosome     15.607348   \n",
       "640  RNA Splicing, Via Transesterification Reaction...     15.599940   \n",
       "924                                    mRNA Processing     14.265004   \n",
       "862                        Spliceosomal snRNP Assembly      8.292507   \n",
       "895                    U2-type Prespliceosome Assembly      8.079627   \n",
       "\n",
       "     mLog10_adj_p   num_Score  Log2_Score  \n",
       "926     12.929694  581.806476    9.184396  \n",
       "640     12.929694  640.086234    9.322122  \n",
       "924     11.770849  491.381793    8.940701  \n",
       "862      5.923291  592.445633    9.210539  \n",
       "895      5.836059  790.701265    9.626989  "
      ]
     },
     "execution_count": 36,
     "metadata": {},
     "output_type": "execute_result"
    }
   ],
   "source": [
    "gp_results.head()"
   ]
  },
  {
   "cell_type": "code",
   "execution_count": null,
   "id": "39a17954-e572-442b-9355-092171037572",
   "metadata": {},
   "outputs": [],
   "source": []
  }
 ],
 "metadata": {
  "kernelspec": {
   "display_name": "EnrichApp",
   "language": "python",
   "name": "enrichapp"
  },
  "language_info": {
   "codemirror_mode": {
    "name": "ipython",
    "version": 3
   },
   "file_extension": ".py",
   "mimetype": "text/x-python",
   "name": "python",
   "nbconvert_exporter": "python",
   "pygments_lexer": "ipython3",
   "version": "3.10.13"
  }
 },
 "nbformat": 4,
 "nbformat_minor": 5
}
